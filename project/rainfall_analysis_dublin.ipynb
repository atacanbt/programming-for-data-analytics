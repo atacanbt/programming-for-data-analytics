{
 "cells": [
  {
   "cell_type": "markdown",
   "metadata": {},
   "source": [
    "# Rainfall Trends and Patterns in Dublin (Ringsend)\n",
    "\n",
    "The final project for Programming for Data Analytics '24-'25\n",
    "\n",
    "Author: Atacan Buyuktalas"
   ]
  },
  {
   "cell_type": "markdown",
   "metadata": {},
   "source": [
    "## Introduction\n",
    "\n",
    "- Objective\n",
    "\n",
    "    This project analyzes rainfall data from the Dublin (Ringsend) weather station from 1941 to August 2024. It aims to uncover trends, seasonal patterns, and significant rainfall events.\n",
    "\n",
    "- Key Questions\n",
    "\n",
    "    1.\tHow has total annual rainfall changed over time?\n",
    "\t2.\tWhich months experience the highest and lowest rainfall?\n",
    "\t3.\tWhat trends exist in the number of rain (rd) and wet days (wd)?\n",
    "\t4.\tHow has the greatest daily rainfall (gdf) varied?\n",
    "\t5.\tCan we predict future annual rainfall based on historical data?"
   ]
  },
  {
   "cell_type": "markdown",
   "metadata": {},
   "source": [
    "## Loading and Exploring Dataset\n",
    "\n",
    "The data set it taken from [Met Eireann](https://www.met.ie/climate/available-data/historical-data). "
   ]
  },
  {
   "cell_type": "code",
   "execution_count": 1,
   "metadata": {},
   "outputs": [],
   "source": [
    "# Import required libraries\n",
    "import pandas as pd\n",
    "import matplotlib.pyplot as plt\n",
    "import seaborn as sns\n",
    "from sklearn.linear_model import LinearRegression\n",
    "import numpy as np"
   ]
  },
  {
   "cell_type": "code",
   "execution_count": null,
   "metadata": {},
   "outputs": [
    {
     "name": "stdout",
     "output_type": "stream",
     "text": [
      "   year  month  ind   rain   gdf  rd  wd\n",
      "0  1941      1    0  112.8  13.0  18  18\n",
      "1  1941      2    0   69.5  13.0  22  15\n",
      "2  1941      3    0  111.0  50.0  21  13\n",
      "3  1941      4    0   68.6  16.5  15  12\n",
      "4  1941      5    0   66.4  20.1  13  10\n",
      "<class 'pandas.core.frame.DataFrame'>\n",
      "RangeIndex: 971 entries, 0 to 970\n",
      "Data columns (total 7 columns):\n",
      " #   Column  Non-Null Count  Dtype \n",
      "---  ------  --------------  ----- \n",
      " 0   year    971 non-null    int64 \n",
      " 1   month   971 non-null    int64 \n",
      " 2   ind     971 non-null    int64 \n",
      " 3   rain    971 non-null    object\n",
      " 4   gdf     971 non-null    object\n",
      " 5   rd      971 non-null    object\n",
      " 6   wd      971 non-null    object\n",
      "dtypes: int64(3), object(4)\n",
      "memory usage: 53.2+ KB\n",
      "None\n"
     ]
    }
   ],
   "source": [
    "# Read the data\n",
    "file_path = 'data/dublin_1941_2024.csv'\n",
    "df = pd.read_csv(file_path, skiprows=13)\n",
    "\n",
    "# Display the first 5 rows of the data\n",
    "print(df.head())\n",
    "\n",
    "# Check for missing values and data types\n",
    "print(df.info())"
   ]
  },
  {
   "cell_type": "code",
   "execution_count": 11,
   "metadata": {},
   "outputs": [],
   "source": [
    "# Convert columns to appropriate numeric types\n",
    "df['rain'] = pd.to_numeric(df['rain'], errors='coerce')\n",
    "df['gdf'] = pd.to_numeric(df['gdf'], errors='coerce')\n",
    "df['rd'] = pd.to_numeric(df['rd'], errors='coerce')\n",
    "df['wd'] = pd.to_numeric(df['wd'], errors='coerce')"
   ]
  },
  {
   "cell_type": "markdown",
   "metadata": {},
   "source": [
    "### Handling missing values\n",
    "\n",
    "- Using [`replace()`](https://pandas.pydata.org/docs/reference/api/pandas.DataFrame.replace.html#pandas.DataFrame.replace) operator to reveal null values and counting them using [`isnull()`](https://pandas.pydata.org/docs/reference/api/pandas.isnull.html#pandas-isnull) and `sum()`.\n",
    "\n",
    "- "
   ]
  },
  {
   "cell_type": "code",
   "execution_count": 13,
   "metadata": {},
   "outputs": [
    {
     "name": "stdout",
     "output_type": "stream",
     "text": [
      "year       0\n",
      "month      0\n",
      "ind        0\n",
      "rain      50\n",
      "gdf      104\n",
      "rd        91\n",
      "wd        91\n",
      "dtype: int64\n",
      "<class 'pandas.core.frame.DataFrame'>\n",
      "RangeIndex: 971 entries, 0 to 970\n",
      "Data columns (total 7 columns):\n",
      " #   Column  Non-Null Count  Dtype  \n",
      "---  ------  --------------  -----  \n",
      " 0   year    971 non-null    int64  \n",
      " 1   month   971 non-null    int64  \n",
      " 2   ind     971 non-null    int64  \n",
      " 3   rain    921 non-null    float64\n",
      " 4   gdf     867 non-null    float64\n",
      " 5   rd      880 non-null    float64\n",
      " 6   wd      880 non-null    float64\n",
      "dtypes: float64(4), int64(3)\n",
      "memory usage: 53.2 KB\n",
      "None\n"
     ]
    }
   ],
   "source": [
    "# Replace missing values with NaN\n",
    "df.replace(' ', np.nan, inplace=True)\n",
    "\n",
    "# Check for missing values\n",
    "print(df.isnull().sum())\n",
    "\n",
    "print(df.info())"
   ]
  }
 ],
 "metadata": {
  "kernelspec": {
   "display_name": "base",
   "language": "python",
   "name": "python3"
  },
  "language_info": {
   "codemirror_mode": {
    "name": "ipython",
    "version": 3
   },
   "file_extension": ".py",
   "mimetype": "text/x-python",
   "name": "python",
   "nbconvert_exporter": "python",
   "pygments_lexer": "ipython3",
   "version": "3.12.4"
  }
 },
 "nbformat": 4,
 "nbformat_minor": 2
}
