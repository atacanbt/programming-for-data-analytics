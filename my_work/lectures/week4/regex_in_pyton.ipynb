{
 "cells": [
  {
   "cell_type": "markdown",
   "metadata": {},
   "source": [
    "# Regular Expressions in Python\n",
    "---"
   ]
  },
  {
   "cell_type": "code",
   "execution_count": 20,
   "metadata": {},
   "outputs": [],
   "source": [
    "# Sample string for examples\n",
    "\n",
    "sentence = \"The Quick Brown Fox Jums Over The Lazy Dog\"\n",
    "paragraph = \"\"\"Once upon a\n",
    "            time there lived\n",
    "            3 bears and 1 girl\n",
    "            They all owed the bank $1000.\n",
    "            Ouch!\"\"\"\n",
    "website = \"www.medium.com\"\n",
    "\n",
    "special_characters = r\"[\\^$.|?*+()\""
   ]
  },
  {
   "cell_type": "markdown",
   "metadata": {},
   "source": [
    "## Built in string functions we have already used\n",
    "\n",
    "|Function|Explanation|\n",
    "|--------|-----------|\n",
    "|`string.split('character)`|Returns a list of strings that were delimited by 'character'|\n",
    "|`string.find('other_string')`|Returns the index of other_string|\n",
    "|`string[index1:index2:freq]`|split into substring at location|\n",
    "|`string.isdecimal()`|Returns True if all characters in the string are decimals|"
   ]
  },
  {
   "cell_type": "code",
   "execution_count": 2,
   "metadata": {},
   "outputs": [
    {
     "data": {
      "text/plain": [
       "['Once',\n",
       " 'upon',\n",
       " 'a\\n',\n",
       " '',\n",
       " '',\n",
       " '',\n",
       " '',\n",
       " '',\n",
       " '',\n",
       " '',\n",
       " '',\n",
       " '',\n",
       " '',\n",
       " '',\n",
       " 'time',\n",
       " 'there',\n",
       " 'lived\\n',\n",
       " '',\n",
       " '',\n",
       " '',\n",
       " '',\n",
       " '',\n",
       " '',\n",
       " '',\n",
       " '',\n",
       " '',\n",
       " '',\n",
       " '',\n",
       " '3',\n",
       " 'bears',\n",
       " 'and',\n",
       " '1',\n",
       " 'girl\\n',\n",
       " '',\n",
       " '',\n",
       " '',\n",
       " '',\n",
       " '',\n",
       " '',\n",
       " '',\n",
       " '',\n",
       " '',\n",
       " '',\n",
       " '',\n",
       " 'They',\n",
       " 'all',\n",
       " 'owed',\n",
       " 'the',\n",
       " 'bank',\n",
       " '$1000.\\n',\n",
       " '',\n",
       " '',\n",
       " '',\n",
       " '',\n",
       " '',\n",
       " '',\n",
       " '',\n",
       " '',\n",
       " '',\n",
       " '',\n",
       " '',\n",
       " 'Ouch!']"
      ]
     },
     "execution_count": 2,
     "metadata": {},
     "output_type": "execute_result"
    }
   ],
   "source": [
    "paragraph.split(\" \")"
   ]
  },
  {
   "cell_type": "markdown",
   "metadata": {},
   "source": [
    "## Python regex function in module RegExp\n",
    "\n",
    "Functions in the modules:\n",
    "\n",
    "|Function|Explanation|\n",
    "|--------|-----------|\n",
    "|`findall(pattern, string)`|Returns a list containing all matches|\n",
    "|`search(pattern, string)`|Returns a match object if there is a match anywhere in the string|\n",
    "|`sub(pattern, replacement, string)`|Replaces one or many matches (kinda like `sed`)|\n",
    "\n",
    "to use these;\n",
    "\n",
    "`import re`\n",
    "\n"
   ]
  },
  {
   "cell_type": "code",
   "execution_count": 3,
   "metadata": {},
   "outputs": [],
   "source": [
    "import re"
   ]
  },
  {
   "cell_type": "markdown",
   "metadata": {},
   "source": [
    "### Matching explicit characters\n",
    "\n",
    "In order to match characters expilicitly, all you need to do is type what you'd like to find. Similarly to `cmd + f` on any application."
   ]
  },
  {
   "cell_type": "code",
   "execution_count": 4,
   "metadata": {},
   "outputs": [
    {
     "data": {
      "text/plain": [
       "['Quick']"
      ]
     },
     "execution_count": 4,
     "metadata": {},
     "output_type": "execute_result"
    }
   ],
   "source": [
    "pattern = 'Quick'\n",
    "re.findall(pattern, sentence)"
   ]
  },
  {
   "cell_type": "code",
   "execution_count": 5,
   "metadata": {},
   "outputs": [
    {
     "data": {
      "text/plain": [
       "[]"
      ]
     },
     "execution_count": 5,
     "metadata": {},
     "output_type": "execute_result"
    }
   ],
   "source": [
    "# case sensitive\n",
    "pattern = 'quick'\n",
    "re.findall(pattern, sentence)"
   ]
  },
  {
   "cell_type": "code",
   "execution_count": 6,
   "metadata": {},
   "outputs": [
    {
     "data": {
      "text/plain": [
       "['Quick']"
      ]
     },
     "execution_count": 6,
     "metadata": {},
     "output_type": "execute_result"
    }
   ],
   "source": [
    "# ignore case sensitive within the command line\n",
    "pattern = 'quick'\n",
    "re.findall(pattern, sentence, re.IGNORECASE)"
   ]
  },
  {
   "cell_type": "code",
   "execution_count": 7,
   "metadata": {},
   "outputs": [
    {
     "data": {
      "text/plain": [
       "<re.Match object; span=(55, 60), match='bears'>"
      ]
     },
     "execution_count": 7,
     "metadata": {},
     "output_type": "execute_result"
    }
   ],
   "source": [
    "# Search a match object that says what was match and where\n",
    "\n",
    "pattern = 'bears'\n",
    "re.search(pattern, paragraph)"
   ]
  },
  {
   "cell_type": "markdown",
   "metadata": {},
   "source": [
    "### Matching literal characters\n",
    "\n",
    "In order to match any literal characters (any characters except `[^$|?+()*) use a backslash followed by the character. "
   ]
  },
  {
   "cell_type": "code",
   "execution_count": 8,
   "metadata": {},
   "outputs": [
    {
     "name": "stderr",
     "output_type": "stream",
     "text": [
      "<>:1: SyntaxWarning: invalid escape sequence '\\.'\n",
      "<>:1: SyntaxWarning: invalid escape sequence '\\.'\n",
      "/var/folders/z9/09xfwp1176g6s9d05jk7x3s00000gn/T/ipykernel_40081/1625193079.py:1: SyntaxWarning: invalid escape sequence '\\.'\n",
      "  pattern = \"www\\.medium\\.com\"\n"
     ]
    },
    {
     "data": {
      "text/plain": [
       "['www.medium.com']"
      ]
     },
     "execution_count": 8,
     "metadata": {},
     "output_type": "execute_result"
    }
   ],
   "source": [
    "pattern = \"www\\.medium\\.com\"\n",
    "re.findall(pattern, website)"
   ]
  },
  {
   "cell_type": "markdown",
   "metadata": {},
   "source": [
    "### Matching by pattern\n",
    "\n",
    "There are a lot of ways we can match a pattern. RegExp has its own syntax, so we could pick and choose how we want our patterns to look like. \n",
    "\n",
    "#### Character Classes\n",
    "|Class|Explanation|\n",
    "|:---|:---|\n",
    "| . |any character except new line|\n",
    "|\\w \\d \\s|word (ie[0-9a-zA-Z], digit, whitespace)|\n",
    "|\\W \\D \\S|not word, digit, whitespace|\n",
    "|[abc]|any of a, b or c|\n",
    "|[^abc]| not a, b or c|\n",
    "|[a-g]|characters between a and g|\n"
   ]
  },
  {
   "cell_type": "code",
   "execution_count": 19,
   "metadata": {},
   "outputs": [
    {
     "data": {
      "text/plain": [
       "['3', '1', '1', '0', '0', '0']"
      ]
     },
     "execution_count": 19,
     "metadata": {},
     "output_type": "execute_result"
    }
   ],
   "source": [
    "# Find the numbers in the paragraph\n",
    "pattern = r'\\d'\n",
    "re.findall(pattern, paragraph)"
   ]
  },
  {
   "cell_type": "code",
   "execution_count": 18,
   "metadata": {},
   "outputs": [
    {
     "data": {
      "text/plain": [
       "['Once',\n",
       " 'upon',\n",
       " 'a',\n",
       " 'time',\n",
       " 'there',\n",
       " 'lived',\n",
       " '3',\n",
       " 'bears',\n",
       " 'and',\n",
       " '1',\n",
       " 'girl',\n",
       " 'They',\n",
       " 'all',\n",
       " 'owed',\n",
       " 'the',\n",
       " 'bank',\n",
       " '1000',\n",
       " 'Ouch']"
      ]
     },
     "execution_count": 18,
     "metadata": {},
     "output_type": "execute_result"
    }
   ],
   "source": [
    "# As opposed to every word in the paragraph\n",
    "pattern = r'\\w+'\n",
    "re.findall(pattern, paragraph)"
   ]
  },
  {
   "cell_type": "markdown",
   "metadata": {},
   "source": [
    "### Anchors\n",
    "\n",
    "|Class|Explanation|\n",
    "|:---|:---|\n",
    "|^abc$|start(^)/end($) of the string|\n",
    "|\\b|Word boundry (I could not get this to work with final)|\n",
    "\n",
    "There is also [Python String Method](https://www.w3schools.com/python/python_ref_string.asp), such as `endswith()`,`startswith()`\n"
   ]
  },
  {
   "cell_type": "code",
   "execution_count": 12,
   "metadata": {},
   "outputs": [
    {
     "name": "stdout",
     "output_type": "stream",
     "text": [
      "['b']\n",
      "[]\n",
      "[]\n",
      "['z']\n"
     ]
    }
   ],
   "source": [
    "lowercase_alphabet = 'abcdefghijklmnopqrstuvwxyz'\n",
    "pattern = 'b'\n",
    "print(re.findall(pattern, lowercase_alphabet))\n",
    "pattern = '^b'\n",
    "print(re.findall(pattern, lowercase_alphabet))\n",
    "pattern = 'b$'\n",
    "print(re.findall(pattern, lowercase_alphabet))\n",
    "pattern = 'z$'\n",
    "print(re.findall(pattern, lowercase_alphabet))"
   ]
  },
  {
   "cell_type": "markdown",
   "metadata": {},
   "source": [
    "### Escaped Characters\n",
    "\n",
    "|Class|Explanation|\n",
    "|:---|:---|\n",
    "|\\\\, \\\\*, \\\\\\\\ |escaped special characters|\n",
    "|\\t, \\n, \\r|tab, linefeed, carriage return|\n",
    "\n",
    "### Groups\n",
    "\n",
    "|Class|Explanation|\n",
    "|:---|:---|\n",
    "|(abc)|capture group|\n",
    "|\\1|backreference to group #1|\n",
    "\n",
    "### Quantifiers & Alteration\n",
    "\n",
    "|Class|Explanation|\n",
    "|:---|:---|\n",
    "|a*, a+, a?|0 or more, 1 or more, 0 or 1|\n",
    "|a(5), a{2,}|exactly 5, 2 or more|\n",
    "|a{1,3}|between 1 and 3|\n",
    "|a+?, a{2,}?|match as few as possible|\n",
    "|ab\\|cd|match ab or cd|\n",
    "\n",
    "reference: [regexr.com](https://regexr.com/)"
   ]
  },
  {
   "cell_type": "markdown",
   "metadata": {},
   "source": [
    "#### Examples\n",
    "\n",
    "to find rhe words in the sentence \\w is a word character {1,} one or more times or use `+`"
   ]
  },
  {
   "cell_type": "code",
   "execution_count": 22,
   "metadata": {},
   "outputs": [
    {
     "data": {
      "text/plain": [
       "['The', 'Quick', 'Brown', 'Fox', 'Jums', 'Over', 'The', 'Lazy', 'Dog']"
      ]
     },
     "execution_count": 22,
     "metadata": {},
     "output_type": "execute_result"
    }
   ],
   "source": [
    "re.findall(r\"\\w{1,}\", sentence)"
   ]
  },
  {
   "cell_type": "code",
   "execution_count": 23,
   "metadata": {},
   "outputs": [
    {
     "data": {
      "text/plain": [
       "['The', 'Quick', 'Brown', 'Fox', 'Jums', 'Over', 'The', 'Lazy', 'Dog']"
      ]
     },
     "execution_count": 23,
     "metadata": {},
     "output_type": "execute_result"
    }
   ],
   "source": [
    "re.findall(r'\\w+', sentence)"
   ]
  },
  {
   "cell_type": "code",
   "execution_count": 24,
   "metadata": {},
   "outputs": [
    {
     "data": {
      "text/plain": [
       "['Once',\n",
       " 'upon',\n",
       " 'a',\n",
       " 'time',\n",
       " 'there',\n",
       " 'lived',\n",
       " '3',\n",
       " 'bears',\n",
       " 'and',\n",
       " '1',\n",
       " 'girl',\n",
       " 'They',\n",
       " 'all',\n",
       " 'owed',\n",
       " 'the',\n",
       " 'bank',\n",
       " '1000',\n",
       " 'Ouch']"
      ]
     },
     "execution_count": 24,
     "metadata": {},
     "output_type": "execute_result"
    }
   ],
   "source": [
    "re.findall(r'\\w+', paragraph)"
   ]
  },
  {
   "cell_type": "markdown",
   "metadata": {},
   "source": [
    "how about the telephone numbers. to find the properly formatted ones with a hyphen"
   ]
  },
  {
   "cell_type": "code",
   "execution_count": 27,
   "metadata": {},
   "outputs": [
    {
     "data": {
      "text/plain": [
       "['123-456-7890', '234-567-8901', '345-678-9012']"
      ]
     },
     "execution_count": 27,
     "metadata": {},
     "output_type": "execute_result"
    }
   ],
   "source": [
    "phone_numbers = \"\"\"123-456-7890\n",
    "                    987.654.321 # an ip address\n",
    "                    234-567-8901\n",
    "                    654.321.987 # an ip address\n",
    "                    345-678-9012\n",
    "                    +321 654 9784 # a phone number with a .\n",
    "                    456-789-012 # badly formatted\n",
    "                    999.666.333\n",
    "                    45678   # I don't know what this is !!\n",
    "                \"\"\"\n",
    "re.findall(r\"\\d{3}\\-\\d{3}\\-\\d{4}\", phone_numbers)"
   ]
  },
  {
   "cell_type": "code",
   "execution_count": 28,
   "metadata": {},
   "outputs": [
    {
     "data": {
      "text/plain": [
       "['123-456-7890', '234-567-8901', '345-678-9012', '321 654 9784']"
      ]
     },
     "execution_count": 28,
     "metadata": {},
     "output_type": "execute_result"
    }
   ],
   "source": [
    "# or hyphen or a dot\n",
    "re.findall(r'\\d{3}[\\- ]\\d{3}[\\- ]\\d{4}', phone_numbers)"
   ]
  },
  {
   "cell_type": "markdown",
   "metadata": {},
   "source": [
    "### Find and Replace\n",
    "\n",
    "You can use parts of the found pattern in the replacement, use `()` to set the parts you want to use and `\\\\N` to include them in the replacement string, eg. `\\\\1` (in other regex implementations it is $N)\n",
    "\n",
    "For example: let's say I want to hide the word after the numbers in the paraghraph ie I want to find the words that have a number (and space) before them and replace them with 'XXX'. I don't want to replace all the words so I first want to find the pattern"
   ]
  },
  {
   "cell_type": "code",
   "execution_count": 29,
   "metadata": {},
   "outputs": [
    {
     "data": {
      "text/plain": [
       "['3 bears', '1 girl']"
      ]
     },
     "execution_count": 29,
     "metadata": {},
     "output_type": "execute_result"
    }
   ],
   "source": [
    "pattern = r'\\d \\w+'\n",
    "re.findall(pattern, paragraph)"
   ]
  },
  {
   "cell_type": "markdown",
   "metadata": {},
   "source": [
    "so i want to leave the number (and space) and replace the word\n",
    "put a bracket around what you want to include in the replacement string and `\\\\N` to use it"
   ]
  },
  {
   "cell_type": "code",
   "execution_count": 33,
   "metadata": {},
   "outputs": [
    {
     "data": {
      "text/plain": [
       "'Once upon a\\n            time there lived\\n            3  XXX and 1  XXX\\n            They all owed the bank $1000.\\n            Ouch!'"
      ]
     },
     "execution_count": 33,
     "metadata": {},
     "output_type": "execute_result"
    }
   ],
   "source": [
    "pattern = r'(\\d )\\w+'\n",
    "replacement = r'\\1 XXX'\n",
    "re.sub(pattern, replacement, paragraph)"
   ]
  }
 ],
 "metadata": {
  "kernelspec": {
   "display_name": "base",
   "language": "python",
   "name": "python3"
  },
  "language_info": {
   "codemirror_mode": {
    "name": "ipython",
    "version": 3
   },
   "file_extension": ".py",
   "mimetype": "text/x-python",
   "name": "python",
   "nbconvert_exporter": "python",
   "pygments_lexer": "ipython3",
   "version": "3.12.4"
  }
 },
 "nbformat": 4,
 "nbformat_minor": 2
}
