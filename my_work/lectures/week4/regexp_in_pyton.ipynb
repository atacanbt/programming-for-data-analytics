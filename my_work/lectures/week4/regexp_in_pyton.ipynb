{
 "cells": [
  {
   "cell_type": "markdown",
   "metadata": {},
   "source": [
    "# Regular Expressions in Python\n",
    "---"
   ]
  },
  {
   "cell_type": "code",
   "execution_count": 2,
   "metadata": {},
   "outputs": [
    {
     "name": "stderr",
     "output_type": "stream",
     "text": [
      "<>:11: SyntaxWarning: invalid escape sequence '\\^'\n",
      "<>:11: SyntaxWarning: invalid escape sequence '\\^'\n",
      "/var/folders/z9/09xfwp1176g6s9d05jk7x3s00000gn/T/ipykernel_16859/1466959883.py:11: SyntaxWarning: invalid escape sequence '\\^'\n",
      "  special_characters = \"[\\^$.|?*+()\"\n"
     ]
    }
   ],
   "source": [
    "# Sample string for examples\n",
    "\n",
    "sentence = \"The Quick Brown Fox Jums Over The Lazy Dog\"\n",
    "paragraph = \"\"\"Once upon a\n",
    "            time there lived\n",
    "            3 bears and 1 girl\n",
    "            They all owed the bank $1000.\n",
    "            Ouch!\"\"\"\n",
    "website = \"www.medium.com\"\n",
    "\n",
    "special_characters = \"[\\^$.|?*+()\""
   ]
  },
  {
   "cell_type": "markdown",
   "metadata": {},
   "source": [
    "## Built in string functions we have already used\n",
    "\n",
    "|Function|Explanation|\n",
    "|--------|-----------|\n",
    "|`string.split('character)`|Returns a list of strings that were delimited by 'character'|\n",
    "|`string.find('other_string')`|Returns the index of other_string|\n",
    "|`string[index1:index2:freq]`|split into substring at location|\n",
    "|`string.isdecimal()`|Returns True if all characters in the string are decimals|"
   ]
  },
  {
   "cell_type": "code",
   "execution_count": 3,
   "metadata": {},
   "outputs": [
    {
     "data": {
      "text/plain": [
       "['Once',\n",
       " 'upon',\n",
       " 'a\\n',\n",
       " '',\n",
       " '',\n",
       " '',\n",
       " '',\n",
       " '',\n",
       " '',\n",
       " '',\n",
       " '',\n",
       " '',\n",
       " '',\n",
       " '',\n",
       " 'time',\n",
       " 'there',\n",
       " 'lived\\n',\n",
       " '',\n",
       " '',\n",
       " '',\n",
       " '',\n",
       " '',\n",
       " '',\n",
       " '',\n",
       " '',\n",
       " '',\n",
       " '',\n",
       " '',\n",
       " '3',\n",
       " 'bears',\n",
       " 'and',\n",
       " '1',\n",
       " 'girl\\n',\n",
       " '',\n",
       " '',\n",
       " '',\n",
       " '',\n",
       " '',\n",
       " '',\n",
       " '',\n",
       " '',\n",
       " '',\n",
       " '',\n",
       " '',\n",
       " 'They',\n",
       " 'all',\n",
       " 'owed',\n",
       " 'the',\n",
       " 'bank',\n",
       " '$1000.\\n',\n",
       " '',\n",
       " '',\n",
       " '',\n",
       " '',\n",
       " '',\n",
       " '',\n",
       " '',\n",
       " '',\n",
       " '',\n",
       " '',\n",
       " '',\n",
       " 'Ouch!']"
      ]
     },
     "execution_count": 3,
     "metadata": {},
     "output_type": "execute_result"
    }
   ],
   "source": [
    "paragraph.split(\" \")"
   ]
  },
  {
   "cell_type": "markdown",
   "metadata": {},
   "source": [
    "## Python regex function in module RegExp\n",
    "\n",
    "Functions in the modules:\n",
    "\n",
    "|Function|Explanation|\n",
    "|--------|-----------|\n",
    "|`findall(pattern, string)`|Returns a list containing all matches|\n",
    "|`search(pattern, string)`|Returns a match object if there is a match anywhere in the string|\n",
    "|`sub(pattern, replacement, string)`|Replaces one or many matches (kinda like `sed`)|\n",
    "\n",
    "to use these;\n",
    "\n",
    "`import re`\n",
    "\n"
   ]
  },
  {
   "cell_type": "code",
   "execution_count": 4,
   "metadata": {},
   "outputs": [],
   "source": [
    "import re"
   ]
  },
  {
   "cell_type": "markdown",
   "metadata": {},
   "source": [
    "### Matching explicit characters\n",
    "\n",
    "In order to match characters expilicitly, all you need to do is type what you'd like to find. Similarly to `cmd + f` on any application."
   ]
  },
  {
   "cell_type": "code",
   "execution_count": 5,
   "metadata": {},
   "outputs": [
    {
     "data": {
      "text/plain": [
       "['Quick']"
      ]
     },
     "execution_count": 5,
     "metadata": {},
     "output_type": "execute_result"
    }
   ],
   "source": [
    "pattern = 'Quick'\n",
    "re.findall(pattern, sentence)"
   ]
  },
  {
   "cell_type": "code",
   "execution_count": 6,
   "metadata": {},
   "outputs": [
    {
     "data": {
      "text/plain": [
       "[]"
      ]
     },
     "execution_count": 6,
     "metadata": {},
     "output_type": "execute_result"
    }
   ],
   "source": [
    "# case sensitive\n",
    "pattern = 'quick'\n",
    "re.findall(pattern, sentence)"
   ]
  },
  {
   "cell_type": "code",
   "execution_count": 7,
   "metadata": {},
   "outputs": [
    {
     "data": {
      "text/plain": [
       "['Quick']"
      ]
     },
     "execution_count": 7,
     "metadata": {},
     "output_type": "execute_result"
    }
   ],
   "source": [
    "# ignore case sensitive within the command line\n",
    "pattern = 'quick'\n",
    "re.findall(pattern, sentence, re.IGNORECASE)"
   ]
  },
  {
   "cell_type": "code",
   "execution_count": 8,
   "metadata": {},
   "outputs": [
    {
     "data": {
      "text/plain": [
       "<re.Match object; span=(55, 60), match='bears'>"
      ]
     },
     "execution_count": 8,
     "metadata": {},
     "output_type": "execute_result"
    }
   ],
   "source": [
    "# Search a match object that says what was match and where\n",
    "\n",
    "pattern = 'bears'\n",
    "re.search(pattern, paragraph)"
   ]
  },
  {
   "cell_type": "markdown",
   "metadata": {},
   "source": [
    "### Matching literal characters\n",
    "\n",
    "In order to match any literal characters (any characters except `[^$|?+()*) use a backslash followed by the character. "
   ]
  },
  {
   "cell_type": "code",
   "execution_count": 12,
   "metadata": {},
   "outputs": [
    {
     "name": "stderr",
     "output_type": "stream",
     "text": [
      "<>:1: SyntaxWarning: invalid escape sequence '\\.'\n",
      "<>:1: SyntaxWarning: invalid escape sequence '\\.'\n",
      "/var/folders/z9/09xfwp1176g6s9d05jk7x3s00000gn/T/ipykernel_16859/1625193079.py:1: SyntaxWarning: invalid escape sequence '\\.'\n",
      "  pattern = \"www\\.medium\\.com\"\n"
     ]
    },
    {
     "data": {
      "text/plain": [
       "['www.medium.com']"
      ]
     },
     "execution_count": 12,
     "metadata": {},
     "output_type": "execute_result"
    }
   ],
   "source": [
    "pattern = \"www\\.medium\\.com\"\n",
    "re.findall(pattern, website)"
   ]
  },
  {
   "cell_type": "markdown",
   "metadata": {},
   "source": [
    "### Matching by pattern\n",
    "\n",
    "There are a lot of ways we can match a pattern. RegExp has its own syntax, so we could pick and choose how we want our patterns to look like. \n",
    "\n",
    "#### Character Classes\n",
    "|Class|Explanation|\n",
    "|:---|:---|\n",
    "| . |any character except new line|\n",
    "|\\w \\d \\s|word (ie[0-9a-zA-Z], digit, whitespace)|\n",
    "|\\W \\D \\S|not word, digit, whitespace|\n",
    "|[abc]|any of a, b or c|\n",
    "|[^abc]| not a, b or c|\n",
    "|[a-g]|characters between a and g|\n"
   ]
  },
  {
   "cell_type": "code",
   "execution_count": 13,
   "metadata": {},
   "outputs": [
    {
     "name": "stderr",
     "output_type": "stream",
     "text": [
      "<>:2: SyntaxWarning: invalid escape sequence '\\d'\n",
      "<>:2: SyntaxWarning: invalid escape sequence '\\d'\n",
      "/var/folders/z9/09xfwp1176g6s9d05jk7x3s00000gn/T/ipykernel_16859/1232204573.py:2: SyntaxWarning: invalid escape sequence '\\d'\n",
      "  pattern = '\\d'\n"
     ]
    },
    {
     "data": {
      "text/plain": [
       "['3', '1', '1', '0', '0', '0']"
      ]
     },
     "execution_count": 13,
     "metadata": {},
     "output_type": "execute_result"
    }
   ],
   "source": [
    "# Find the numbers in the paragraph\n",
    "pattern = '\\d'\n",
    "re.findall(pattern, paragraph)"
   ]
  },
  {
   "cell_type": "code",
   "execution_count": 14,
   "metadata": {},
   "outputs": [
    {
     "name": "stderr",
     "output_type": "stream",
     "text": [
      "<>:2: SyntaxWarning: invalid escape sequence '\\w'\n",
      "<>:2: SyntaxWarning: invalid escape sequence '\\w'\n",
      "/var/folders/z9/09xfwp1176g6s9d05jk7x3s00000gn/T/ipykernel_16859/1559930127.py:2: SyntaxWarning: invalid escape sequence '\\w'\n",
      "  pattern = '\\w'\n"
     ]
    },
    {
     "data": {
      "text/plain": [
       "['O',\n",
       " 'n',\n",
       " 'c',\n",
       " 'e',\n",
       " 'u',\n",
       " 'p',\n",
       " 'o',\n",
       " 'n',\n",
       " 'a',\n",
       " 't',\n",
       " 'i',\n",
       " 'm',\n",
       " 'e',\n",
       " 't',\n",
       " 'h',\n",
       " 'e',\n",
       " 'r',\n",
       " 'e',\n",
       " 'l',\n",
       " 'i',\n",
       " 'v',\n",
       " 'e',\n",
       " 'd',\n",
       " '3',\n",
       " 'b',\n",
       " 'e',\n",
       " 'a',\n",
       " 'r',\n",
       " 's',\n",
       " 'a',\n",
       " 'n',\n",
       " 'd',\n",
       " '1',\n",
       " 'g',\n",
       " 'i',\n",
       " 'r',\n",
       " 'l',\n",
       " 'T',\n",
       " 'h',\n",
       " 'e',\n",
       " 'y',\n",
       " 'a',\n",
       " 'l',\n",
       " 'l',\n",
       " 'o',\n",
       " 'w',\n",
       " 'e',\n",
       " 'd',\n",
       " 't',\n",
       " 'h',\n",
       " 'e',\n",
       " 'b',\n",
       " 'a',\n",
       " 'n',\n",
       " 'k',\n",
       " '1',\n",
       " '0',\n",
       " '0',\n",
       " '0',\n",
       " 'O',\n",
       " 'u',\n",
       " 'c',\n",
       " 'h']"
      ]
     },
     "execution_count": 14,
     "metadata": {},
     "output_type": "execute_result"
    }
   ],
   "source": [
    "# As opposed to every word in the paragraph\n",
    "pattern = '\\w'\n",
    "re.findall(pattern, paragraph)"
   ]
  },
  {
   "cell_type": "code",
   "execution_count": null,
   "metadata": {},
   "outputs": [],
   "source": []
  }
 ],
 "metadata": {
  "kernelspec": {
   "display_name": "base",
   "language": "python",
   "name": "python3"
  },
  "language_info": {
   "codemirror_mode": {
    "name": "ipython",
    "version": 3
   },
   "file_extension": ".py",
   "mimetype": "text/x-python",
   "name": "python",
   "nbconvert_exporter": "python",
   "pygments_lexer": "ipython3",
   "version": "3.12.4"
  }
 },
 "nbformat": 4,
 "nbformat_minor": 2
}
