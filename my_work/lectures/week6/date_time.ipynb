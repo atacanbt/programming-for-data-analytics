{
 "cells": [
  {
   "cell_type": "markdown",
   "metadata": {},
   "source": [
    "# datetime\n",
    "---\n"
   ]
  },
  {
   "cell_type": "code",
   "execution_count": 21,
   "metadata": {},
   "outputs": [],
   "source": [
    "import datetime"
   ]
  },
  {
   "cell_type": "code",
   "execution_count": 3,
   "metadata": {},
   "outputs": [
    {
     "name": "stdout",
     "output_type": "stream",
     "text": [
      "['MAXYEAR', 'MINYEAR', 'UTC', '__all__', '__builtins__', '__cached__', '__doc__', '__file__', '__loader__', '__name__', '__package__', '__spec__', 'date', 'datetime', 'datetime_CAPI', 'time', 'timedelta', 'timezone', 'tzinfo']\n"
     ]
    }
   ],
   "source": [
    "print(dir(datetime))"
   ]
  },
  {
   "cell_type": "markdown",
   "metadata": {},
   "source": [
    "## Time"
   ]
  },
  {
   "cell_type": "code",
   "execution_count": 4,
   "metadata": {},
   "outputs": [
    {
     "name": "stdout",
     "output_type": "stream",
     "text": [
      "01:02:03\n"
     ]
    }
   ],
   "source": [
    "# datetime.time(hour=0, minute=0, second=0, microsecond=0, tzinfo=None, *, fold=0)\n",
    "\n",
    "t = datetime.time(1, 2, 3)\n",
    "print(t)"
   ]
  },
  {
   "cell_type": "code",
   "execution_count": 5,
   "metadata": {},
   "outputs": [
    {
     "name": "stdout",
     "output_type": "stream",
     "text": [
      "hour: 1\n",
      "minute: 2\n",
      "second: 3\n",
      "microsecond: 0\n",
      "tzinfo: None\n"
     ]
    }
   ],
   "source": [
    "print(f'hour: {t.hour}')\n",
    "print(f'minute: {t.minute}')\n",
    "print(f'second: {t.second}')\n",
    "print(f'microsecond: {t.microsecond}')\n",
    "print(f'tzinfo: {t.tzinfo}')"
   ]
  },
  {
   "cell_type": "code",
   "execution_count": 6,
   "metadata": {},
   "outputs": [
    {
     "name": "stdout",
     "output_type": "stream",
     "text": [
      "Earliest: 00:00:00\n",
      "Latest: 23:59:59.999999\n",
      "Resolution: 0:00:00.000001\n"
     ]
    }
   ],
   "source": [
    "# variable 't' is a time object, not a datetime object\n",
    "print('Earliest:', datetime.time.min)\n",
    "print('Latest:', datetime.time.max)\n",
    "print('Resolution:', datetime.time.resolution)"
   ]
  },
  {
   "cell_type": "code",
   "execution_count": 7,
   "metadata": {},
   "outputs": [
    {
     "name": "stdout",
     "output_type": "stream",
     "text": [
      "00:39:00.000005\n",
      "00:39:00.000005\n"
     ]
    }
   ],
   "source": [
    "midnigth = datetime.time(0, 39, 0, 5)\n",
    "midnigth2 = datetime.time(microsecond=5, minute=39)\n",
    "print(midnigth)\n",
    "print(midnigth2)"
   ]
  },
  {
   "cell_type": "markdown",
   "metadata": {},
   "source": [
    "## Date"
   ]
  },
  {
   "cell_type": "code",
   "execution_count": 8,
   "metadata": {},
   "outputs": [
    {
     "name": "stdout",
     "output_type": "stream",
     "text": [
      "today: \n",
      "\t 2024-12-23\n",
      "ctime: \n",
      "\t Mon Dec 23 00:00:00 2024\n",
      "tuple: \n",
      "\t time.struct_time(tm_year=2024, tm_mon=12, tm_mday=23, tm_hour=0, tm_min=0, tm_sec=0, tm_wday=0, tm_yday=358, tm_isdst=-1)\n",
      "ordinal: \n",
      "\t 739243\n",
      "year: \n",
      "\t 2024\n",
      "month: \n",
      "\t 12\n",
      "day: \n",
      "\t 23\n"
     ]
    }
   ],
   "source": [
    "# datetime.date(year, month, day)\n",
    "\n",
    "today = datetime.date.today()\n",
    "print(f'today: \\n\\t {today}')\n",
    "# ctime is a string representation of the date\n",
    "print(f'ctime: \\n\\t {today.ctime()}')\n",
    "# tuple is a tuple representation of the date\n",
    "print(f'tuple: \\n\\t {today.timetuple()}')\n",
    "# ordinal is a number of days since 1/1/1\n",
    "print(f'ordinal: \\n\\t {today.toordinal()}')\n",
    "print(f'year: \\n\\t {today.year}')\n",
    "print(f'month: \\n\\t {today.month}')\n",
    "print(f'day: \\n\\t {today.day}')"
   ]
  },
  {
   "cell_type": "code",
   "execution_count": 9,
   "metadata": {},
   "outputs": [
    {
     "name": "stdout",
     "output_type": "stream",
     "text": [
      "o = 733114 and fromordinal(o) = 2008-03-13\n",
      "t = 1734952768.2622771 and fromtimestamp(t) = 2024-12-23\n"
     ]
    }
   ],
   "source": [
    "import time\n",
    "\n",
    "o = 733114\n",
    "print(f'o = {o} and fromordinal(o) = {datetime.date.fromordinal(o)}')\n",
    "\n",
    "t = time.time()\n",
    "print(f't = {t} and fromtimestamp(t) = {datetime.date.fromtimestamp(t)}')"
   ]
  },
  {
   "cell_type": "code",
   "execution_count": 10,
   "metadata": {},
   "outputs": [
    {
     "name": "stdout",
     "output_type": "stream",
     "text": [
      "Earliest: 0001-01-01\n",
      "Latest: 9999-12-31\n",
      "Resolution: 1 day, 0:00:00\n"
     ]
    }
   ],
   "source": [
    "print('Earliest:', datetime.date.min)\n",
    "print('Latest:', datetime.date.max) \n",
    "print('Resolution:', datetime.date.resolution) # whole day"
   ]
  },
  {
   "cell_type": "code",
   "execution_count": 11,
   "metadata": {},
   "outputs": [
    {
     "name": "stdout",
     "output_type": "stream",
     "text": [
      "d1: 2022-07-05\n",
      "d2: 2023-07-05\n"
     ]
    }
   ],
   "source": [
    "d1 = datetime.date(2022, 7, 5)\n",
    "print(f'd1: {d1}')\n",
    "\n",
    "d2 = d1.replace(year=2023)\n",
    "print(f'd2: {d2}')"
   ]
  },
  {
   "cell_type": "code",
   "execution_count": 12,
   "metadata": {},
   "outputs": [
    {
     "name": "stdout",
     "output_type": "stream",
     "text": [
      "Help on built-in function replace:\n",
      "\n",
      "replace(...) method of datetime.date instance\n",
      "    Return date with new specified fields.\n",
      "\n"
     ]
    }
   ],
   "source": [
    "help(d1.replace)"
   ]
  },
  {
   "cell_type": "code",
   "execution_count": 13,
   "metadata": {},
   "outputs": [
    {
     "name": "stdout",
     "output_type": "stream",
     "text": [
      "2023-01-05\n"
     ]
    }
   ],
   "source": [
    "created_date = datetime.date(year=2023, month=1, day=5)\n",
    "print(created_date)"
   ]
  },
  {
   "cell_type": "code",
   "execution_count": 24,
   "metadata": {},
   "outputs": [
    {
     "name": "stdout",
     "output_type": "stream",
     "text": [
      "2023-01-05\n"
     ]
    }
   ],
   "source": [
    "# create a date where year is 2023 and the day is 5\n",
    "\n",
    "d = datetime.date(day=5, month=1, year=2023)\n",
    "print(d)"
   ]
  },
  {
   "cell_type": "markdown",
   "metadata": {},
   "source": [
    "## timedeltas"
   ]
  },
  {
   "cell_type": "code",
   "execution_count": 14,
   "metadata": {},
   "outputs": [
    {
     "name": "stdout",
     "output_type": "stream",
     "text": [
      "microseconds: 0:00:00.000001\n",
      "milliseconds: 0:00:00.001000\n",
      "seconds: 0:00:01\n",
      "minutes: 0:01:00\n",
      "hours: 1:00:00\n",
      "days: 1 day, 0:00:00\n",
      "weeks: 7 days, 0:00:00\n"
     ]
    }
   ],
   "source": [
    "# datetime.timedelta(days=0, seconds=0, microseconds=0, milliseconds=0, minutes=0, hours=0, weeks=0)\n",
    "\n",
    "print(f'microseconds: {datetime.timedelta(microseconds=1)}')\n",
    "print(f'milliseconds: {datetime.timedelta(milliseconds=1)}')\n",
    "print(f'seconds: {datetime.timedelta(seconds=1)}')\n",
    "print(f'minutes: {datetime.timedelta(minutes=1)}')\n",
    "print(f'hours: {datetime.timedelta(hours=1)}')\n",
    "print(f'days: {datetime.timedelta(days=1)}')\n",
    "print(f'weeks: {datetime.timedelta(weeks=1)}')"
   ]
  },
  {
   "cell_type": "markdown",
   "metadata": {},
   "source": [
    "### Date Arithmetic\n",
    "Date math uses the standard arithmetic operators.\n",
    "\n",
    "\n",
    "The following example with date objects illustrates using timedelta objects to compute new dates, and subtracting date instances to produce timedeltas (including a negative delta value)."
   ]
  },
  {
   "cell_type": "code",
   "execution_count": 15,
   "metadata": {},
   "outputs": [
    {
     "name": "stdout",
     "output_type": "stream",
     "text": [
      "today: 2024-12-23\n"
     ]
    }
   ],
   "source": [
    "today = datetime.date.today()\n",
    "print(f'today: {today}')"
   ]
  },
  {
   "cell_type": "code",
   "execution_count": 16,
   "metadata": {},
   "outputs": [
    {
     "name": "stdout",
     "output_type": "stream",
     "text": [
      "one_timedelta_day: 1 day, 0:00:00\n"
     ]
    }
   ],
   "source": [
    "one_timedelta_day = datetime.timedelta(days=1)\n",
    "print(f'one_timedelta_day: {one_timedelta_day}')"
   ]
  },
  {
   "cell_type": "code",
   "execution_count": 17,
   "metadata": {},
   "outputs": [
    {
     "name": "stdout",
     "output_type": "stream",
     "text": [
      "yesterday: 2024-12-22\n"
     ]
    }
   ],
   "source": [
    "yesterday = today - one_timedelta_day\n",
    "print(f'yesterday: {yesterday}')"
   ]
  },
  {
   "cell_type": "code",
   "execution_count": 18,
   "metadata": {},
   "outputs": [
    {
     "name": "stdout",
     "output_type": "stream",
     "text": [
      "tomorrow: 2024-12-24\n"
     ]
    }
   ],
   "source": [
    "tomorrow = today + one_timedelta_day\n",
    "print(f'tomorrow: {tomorrow}')"
   ]
  },
  {
   "cell_type": "code",
   "execution_count": 19,
   "metadata": {},
   "outputs": [
    {
     "name": "stdout",
     "output_type": "stream",
     "text": [
      "tomorrow - yesterday: 2 days, 0:00:00\n",
      "yesterday - tomorrow: -2 days, 0:00:00\n"
     ]
    }
   ],
   "source": [
    "print(f'tomorrow - yesterday: {tomorrow - yesterday}')\n",
    "print(f'yesterday - tomorrow: {yesterday - tomorrow}')"
   ]
  },
  {
   "cell_type": "code",
   "execution_count": 25,
   "metadata": {},
   "outputs": [
    {
     "name": "stdout",
     "output_type": "stream",
     "text": [
      "2024-12-23\n",
      "2025-01-27\n"
     ]
    }
   ],
   "source": [
    "# Create an arbitary date and add 5 weeks to it\n",
    "\n",
    "date = datetime.date.today()\n",
    "print(date)\n",
    "new_date = date + datetime.timedelta(weeks=5)\n",
    "print(new_date)"
   ]
  },
  {
   "cell_type": "markdown",
   "metadata": {},
   "source": [
    "## Comparin Values\n",
    "\n",
    "both date and time values can be compared using the standart operators to determine whis is earlier or later"
   ]
  },
  {
   "cell_type": "code",
   "execution_count": 26,
   "metadata": {},
   "outputs": [
    {
     "name": "stdout",
     "output_type": "stream",
     "text": [
      "Times:\n",
      "\tt1: 12:55:00\n",
      "\tt2: 13:05:00\n",
      "\tt1 < t2: True\n"
     ]
    }
   ],
   "source": [
    "print('Times:')\n",
    "t1 = datetime.time(12,55,0)\n",
    "print ('\\tt1:', t1)\n",
    "t2 = datetime.time(13,5,0)\n",
    "print('\\tt2:', t2)\n",
    "print('\\tt1 < t2:', t1 < t2)"
   ]
  },
  {
   "cell_type": "code",
   "execution_count": 27,
   "metadata": {},
   "outputs": [
    {
     "name": "stdout",
     "output_type": "stream",
     "text": [
      "Dates:\n",
      "\td1: 2024-12-23\n",
      "\td2: 2024-12-24\n",
      "\td1 > d2: False\n"
     ]
    }
   ],
   "source": [
    "print ('Dates:')\n",
    "d1 = datetime.date.today()\n",
    "print('\\td1:', d1)\n",
    "d2 = datetime.date.today() + datetime.timedelta(days=1)\n",
    "print('\\td2:', d2)\n",
    "print('\\td1 > d2:', d1 > d2)"
   ]
  },
  {
   "cell_type": "markdown",
   "metadata": {},
   "source": [
    "## Combining Dates and Times: datetime Class\n",
    "\n",
    "- we can use datetime class to hold values consisting of both date and time components\n",
    "- Represents all the attributes from date and time objects\n",
    "\n",
    "```python\n",
    "datetime.datetime(year, month, day,\n",
    "                    hour= 0, minute=0, second=0,\n",
    "                    microsecond=0, tzinfo=None, *, fold=0)\n",
    "```\n",
    "more information in the [document](https://docs.python.org/3/library/datetime.html)"
   ]
  },
  {
   "cell_type": "code",
   "execution_count": 29,
   "metadata": {},
   "outputs": [
    {
     "name": "stdout",
     "output_type": "stream",
     "text": [
      "Now: 2024-12-23 13:22:05.961900\n",
      "Today: 2024-12-23 13:22:05.962991\n",
      "UTC Now: 2024-12-23 13:22:05.963049+00:00\n"
     ]
    }
   ],
   "source": [
    "print(f'Now: {datetime.datetime.now()}')\n",
    "print(f'Today: {datetime.datetime.today()}')\n",
    "print(f'UTC Now: {datetime.datetime.now(datetime.UTC)}')\n"
   ]
  },
  {
   "cell_type": "code",
   "execution_count": 30,
   "metadata": {},
   "outputs": [
    {
     "name": "stdout",
     "output_type": "stream",
     "text": [
      "year: 2024\n",
      "month: 12\n",
      "day: 23\n",
      "hour: 13\n",
      "minute: 23\n",
      "second: 3\n",
      "microsecond: 163971\n"
     ]
    }
   ],
   "source": [
    "d = datetime.datetime.now()\n",
    "for attr in ['year', 'month', 'day', 'hour', 'minute', 'second', 'microsecond']:\n",
    "    print(f'{attr}: {getattr(d, attr)}')"
   ]
  },
  {
   "cell_type": "code",
   "execution_count": 32,
   "metadata": {},
   "outputs": [
    {
     "name": "stdout",
     "output_type": "stream",
     "text": [
      "Current date & time:         2024-12-23 13:26:22.266174\n",
      "Date and Time in ISO format: 2024-12-23T13:26:22.266174\n",
      "Current year:                2024\n",
      "Current month:               12\n",
      "Current day:                 23\n",
      "dd/mm/yyyy format:           23/12/2024\n",
      "Current hour:                13\n",
      "Current minute:              26\n",
      "Current second:              22\n",
      "hh:mm:ss format:             13:26:22\n"
     ]
    }
   ],
   "source": [
    "NOW = datetime.datetime.now()\n",
    "\n",
    "print(f'Current date & time:         {NOW}')\n",
    "print(f'Date and Time in ISO format: {NOW.isoformat()}')\n",
    "print(f'Current year:                {NOW.year}')\n",
    "print(f'Current month:               {NOW.month}')\n",
    "print(f'Current day:                 {NOW.day}')\n",
    "print(f'dd/mm/yyyy format:           {NOW.strftime(\"%d/%m/%Y\")}')\n",
    "print(f'Current hour:                {NOW.hour}')\n",
    "print(f'Current minute:              {NOW.minute}')\n",
    "print(f'Current second:              {NOW.second}')\n",
    "print(f'hh:mm:ss format:             {NOW.strftime(\"%H:%M:%S\")}')"
   ]
  },
  {
   "cell_type": "markdown",
   "metadata": {},
   "source": [
    "- just as with date, datetime provides convenient class methods for creating new instance. it also inclides `fromordinal()` and `fromtimestamp()`.\n",
    "- In addition, `combine()` can be useful if you already have a date instance and want to create a datetime. "
   ]
  },
  {
   "cell_type": "code",
   "execution_count": 33,
   "metadata": {},
   "outputs": [
    {
     "name": "stdout",
     "output_type": "stream",
     "text": [
      "t: 01:02:03\n",
      "d: 2024-12-23\n",
      "dt: 2024-12-23 01:02:03\n"
     ]
    }
   ],
   "source": [
    "t = datetime.time(1,2,3)\n",
    "print('t:', t)\n",
    "\n",
    "d = datetime.date.today()\n",
    "print('d:', d)\n",
    "\n",
    "dt = datetime.datetime.combine(d,t)\n",
    "print('dt:', dt)"
   ]
  },
  {
   "cell_type": "markdown",
   "metadata": {},
   "source": [
    "## Formatting and Parsing\n",
    "\n",
    "- The default string representation of a datetime object uses the format YYY-MM-DDTHH:MM:SS.mmmmmm\n",
    "- Alternate formats can be generated using `strftime()` function.\n",
    "    - Converts datetime objects into string\n",
    "    - Uses different control code to give an output.\n",
    "    - Each control code resembles different parameters like year, month, weekday and date.\n",
    "- If your input data includes timestamp values parsable with `time.strptime()`, then `datetime.strptime()` is a convenient way to convert them to datetime instance. "
   ]
  },
  {
   "cell_type": "markdown",
   "metadata": {},
   "source": [
    "**Useful `strptime` and `strftime` Patterns**\\n\n",
    "    \n",
    "|Directive | Meaning |\n",
    "| --- | --- |\n",
    "| `%a` | Weekday as locale's abbreviated name |\n",
    "| `%A` | Weekday as locale's full name |\n",
    "| `%w` | Weekday as decimal number, where 0 is Sunday and 6 is Saturday |\n",
    "| `%d` | Day of the month as a zero-padded decimal number [01, 02, ..., 30, 31] |\n",
    "| `%b` | Month as locale's abbreviated name |\n",
    "| `%B` | Weekday as locale's full name |\n",
    "| `%m` | Month as zero-padded decimal number [01, 02, ..., 11, 12] |\n",
    "| `%y` | Year without century as a zero-padded decimal number name [0001, ..., 2019, 2020, ..., 9999] |\n",
    "| `%Y` | Year with century as a decimal number  |\n",
    "| `%H` | Hour (24-hour clock) as a zero-padded decimal number [00, 01, ..., 22, 23] |\n",
    "| `%I` | Hour (12-hour clock) as a zero-padded decimal number |\n",
    "| `%p` | Locale equivalent of either AM or PM |\n",
    "| `%M` | Minute as a zero-padded decimal number [00, 01, ..., 58, 59]|\n",
    "| `%S` | Second as a zero-padded decimal number [00, 01, ..., 58, 59]|\n",
    "| `%f` | Microsecond as a zero-padded decimal number |\n",
    "| `%j` | Day of the year as a zero-padded decimal number |\n",
    "| `%W` | Week number of the year (Monday as the first day of the week) as a decimal number |\n",
    "| `%U` | Week number of the year (Sunday as the first day of the week) as a decimal number |\n",
    "| `%c` | Locale’s appropriate date and time representation |\n",
    "| `%Z` | Time zone name |\n",
    "| `%z` | UTC offset in the form HH[SS[.fffff]] "
   ]
  },
  {
   "cell_type": "markdown",
   "metadata": {},
   "source": [
    "### Formatting\n",
    "\n",
    "Weekday, Month, Day, Hour, Minute, Seconds, Year"
   ]
  },
  {
   "cell_type": "code",
   "execution_count": 34,
   "metadata": {},
   "outputs": [
    {
     "name": "stdout",
     "output_type": "stream",
     "text": [
      "ISO: 2024-12-23 16:24:47.362920\n",
      "strftime: Mon 23 Dec 16:24:47 2024\n"
     ]
    }
   ],
   "source": [
    "format = \"%a %d %b %H:%M:%S %Y\"\n",
    "\n",
    "today = datetime.datetime.today()\n",
    "print(f'ISO: {today}')\n",
    "\n",
    "s = today.strftime(format)\n",
    "print(f'strftime: {s}')"
   ]
  },
  {
   "cell_type": "code",
   "execution_count": 35,
   "metadata": {},
   "outputs": [
    {
     "name": "stdout",
     "output_type": "stream",
     "text": [
      "16:24:47\n"
     ]
    }
   ],
   "source": [
    "# Obtain the time in HH:MM:SS format\n",
    "print(today.strftime('%X'))"
   ]
  },
  {
   "cell_type": "code",
   "execution_count": 36,
   "metadata": {},
   "outputs": [
    {
     "name": "stdout",
     "output_type": "stream",
     "text": [
      "04\n"
     ]
    }
   ],
   "source": [
    "# Obtain the hour with 12 hours time format\n",
    "print(today.strftime('%I'))"
   ]
  },
  {
   "cell_type": "code",
   "execution_count": 37,
   "metadata": {},
   "outputs": [
    {
     "name": "stdout",
     "output_type": "stream",
     "text": [
      "PM\n"
     ]
    }
   ],
   "source": [
    "# Obtain AM and PM \n",
    "print(today.strftime('%p'))"
   ]
  },
  {
   "cell_type": "code",
   "execution_count": 38,
   "metadata": {},
   "outputs": [
    {
     "name": "stdout",
     "output_type": "stream",
     "text": [
      " Date and Time: Mon Dec 23 16:24:47 2024\n",
      " Date:          12/23/24\n",
      " Time:          16:24:47\n"
     ]
    }
   ],
   "source": [
    "# %c - local date and time, %x local date, %X local time\n",
    "print(f' Date and Time: {today.strftime(\"%c\")}')\n",
    "print(f' Date:          {today.strftime(\"%x\")}')\n",
    "print(f' Time:          {today.strftime(\"%X\")}')"
   ]
  },
  {
   "cell_type": "code",
   "execution_count": 39,
   "metadata": {},
   "outputs": [
    {
     "name": "stdout",
     "output_type": "stream",
     "text": [
      " Time:       04:24:47 PM\n",
      "Hour:Minute: 16:24\n"
     ]
    }
   ],
   "source": [
    "# %I/%H -12/24 Hour, %M - minute, %S - second, %p - local's AM/PM\n",
    "print(f' Time:       {today.strftime(\"%I:%M:%S %p\")}')\n",
    "print(f'Hour:Minute: {today.strftime(\"%H:%M\")}')"
   ]
  },
  {
   "cell_type": "markdown",
   "metadata": {},
   "source": [
    "### Parsing\n",
    "\n",
    "If the format of a string is known, it can be easily parsed to a `datetime` object using `strptime()`"
   ]
  },
  {
   "cell_type": "code",
   "execution_count": 40,
   "metadata": {},
   "outputs": [
    {
     "name": "stdout",
     "output_type": "stream",
     "text": [
      "Date: 2020-09-19\n",
      "Time: 14:42:00\n",
      "Date-time: 2020-09-19 14:42:00\n"
     ]
    }
   ],
   "source": [
    "datetime_str = 'Sep 19 2020 2:42PM'\n",
    "datetime_fmt = '%b %d %Y %I:%M%p'\n",
    "datetime_obj = datetime.datetime.strptime(datetime_str, datetime_fmt)\n",
    "\n",
    "print('Date:',      datetime_obj.date())\n",
    "print('Time:',      datetime_obj.time())\n",
    "print('Date-time:', datetime_obj)"
   ]
  },
  {
   "cell_type": "code",
   "execution_count": 41,
   "metadata": {},
   "outputs": [
    {
     "name": "stdout",
     "output_type": "stream",
     "text": [
      "String date: Sep 19 2020 02:42PM\n"
     ]
    }
   ],
   "source": [
    "print('String date:', datetime_obj.strftime(datetime_fmt))"
   ]
  },
  {
   "cell_type": "markdown",
   "metadata": {},
   "source": [
    "#### Breakout 4\n",
    "\n",
    "- Write a function named `number_days_between` that:\n",
    "    - Takes two argument that are 8-digit integer of the form YYYYMMDD (actual date) \n",
    "    - Returns the number of days between the two dates\n",
    "\n",
    "- For instance:\n",
    "```python\n",
    "    number_days_between(20200617, 20200619) = 2\n",
    "    number_days_between(20200619, 20100219) = 3773\n",
    "```"
   ]
  },
  {
   "cell_type": "code",
   "execution_count": 49,
   "metadata": {},
   "outputs": [
    {
     "name": "stdout",
     "output_type": "stream",
     "text": [
      "Number of days between 20220101 and 20220131: 30\n"
     ]
    }
   ],
   "source": [
    "# number of days between two dates function, it takes two integer in the format of YYYYMMDD and returns the number of days between them\n",
    "def days_between_dates(date1, date2):\n",
    "    date_format = '%Y%m%d'\n",
    "    d1 = datetime.datetime.strptime(str(date1), date_format)\n",
    "    d2 = datetime.datetime.strptime(str(date2), date_format)\n",
    "    \n",
    "    if d1 < d2:\n",
    "        return (d2 - d1).days\n",
    "    else:\n",
    "        return (d1 - d2).days\n",
    "\n",
    "number_of_days = days_between_dates(20220101, 20220131)\n",
    "print(f'Number of days between 20220101 and 20220131: {number_of_days}')"
   ]
  },
  {
   "cell_type": "code",
   "execution_count": null,
   "metadata": {},
   "outputs": [],
   "source": []
  }
 ],
 "metadata": {
  "kernelspec": {
   "display_name": "base",
   "language": "python",
   "name": "python3"
  },
  "language_info": {
   "codemirror_mode": {
    "name": "ipython",
    "version": 3
   },
   "file_extension": ".py",
   "mimetype": "text/x-python",
   "name": "python",
   "nbconvert_exporter": "python",
   "pygments_lexer": "ipython3",
   "version": "3.12.4"
  }
 },
 "nbformat": 4,
 "nbformat_minor": 2
}
