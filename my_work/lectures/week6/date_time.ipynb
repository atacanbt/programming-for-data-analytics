{
 "cells": [
  {
   "cell_type": "markdown",
   "metadata": {},
   "source": [
    "# datetime\n",
    "---\n"
   ]
  },
  {
   "cell_type": "code",
   "execution_count": 1,
   "metadata": {},
   "outputs": [],
   "source": [
    "import datetime"
   ]
  },
  {
   "cell_type": "code",
   "execution_count": 2,
   "metadata": {},
   "outputs": [
    {
     "name": "stdout",
     "output_type": "stream",
     "text": [
      "['MAXYEAR', 'MINYEAR', 'UTC', '__all__', '__builtins__', '__cached__', '__doc__', '__file__', '__loader__', '__name__', '__package__', '__spec__', 'date', 'datetime', 'datetime_CAPI', 'time', 'timedelta', 'timezone', 'tzinfo']\n"
     ]
    }
   ],
   "source": [
    "print(dir(datetime))"
   ]
  },
  {
   "cell_type": "markdown",
   "metadata": {},
   "source": [
    "## Time"
   ]
  },
  {
   "cell_type": "code",
   "execution_count": 8,
   "metadata": {},
   "outputs": [
    {
     "name": "stdout",
     "output_type": "stream",
     "text": [
      "01:02:03\n"
     ]
    }
   ],
   "source": [
    "# datetime.time(hour=0, minute=0, second=0, microsecond=0, tzinfo=None, *, fold=0)\n",
    "\n",
    "t = datetime.time(1, 2, 3)\n",
    "print(t)"
   ]
  },
  {
   "cell_type": "code",
   "execution_count": 4,
   "metadata": {},
   "outputs": [
    {
     "name": "stdout",
     "output_type": "stream",
     "text": [
      "hour: 1\n",
      "minute: 2\n",
      "second: 3\n",
      "microsecond: 0\n",
      "tzinfo: None\n"
     ]
    }
   ],
   "source": [
    "print(f'hour: {t.hour}')\n",
    "print(f'minute: {t.minute}')\n",
    "print(f'second: {t.second}')\n",
    "print(f'microsecond: {t.microsecond}')\n",
    "print(f'tzinfo: {t.tzinfo}')"
   ]
  },
  {
   "cell_type": "code",
   "execution_count": 5,
   "metadata": {},
   "outputs": [
    {
     "name": "stdout",
     "output_type": "stream",
     "text": [
      "Earliest: 00:00:00\n",
      "Latest: 23:59:59.999999\n",
      "Resolution: 0:00:00.000001\n"
     ]
    }
   ],
   "source": [
    "# variable 't' is a time object, not a datetime object\n",
    "print('Earliest:', datetime.time.min)\n",
    "print('Latest:', datetime.time.max)\n",
    "print('Resolution:', datetime.time.resolution)"
   ]
  },
  {
   "cell_type": "code",
   "execution_count": 7,
   "metadata": {},
   "outputs": [
    {
     "name": "stdout",
     "output_type": "stream",
     "text": [
      "00:39:00.000005\n",
      "00:39:00.000005\n"
     ]
    }
   ],
   "source": [
    "midnigth = datetime.time(0, 39, 0, 5)\n",
    "midnigth2 = datetime.time(microsecond=5, minute=39)\n",
    "print(midnigth)\n",
    "print(midnigth2)"
   ]
  },
  {
   "cell_type": "markdown",
   "metadata": {},
   "source": [
    "## Date"
   ]
  },
  {
   "cell_type": "code",
   "execution_count": null,
   "metadata": {},
   "outputs": [
    {
     "name": "stdout",
     "output_type": "stream",
     "text": [
      "today: \n",
      "\t 2024-12-03\n",
      "ctime: \n",
      "\t Tue Dec  3 00:00:00 2024\n",
      "tuple: \n",
      "\t time.struct_time(tm_year=2024, tm_mon=12, tm_mday=3, tm_hour=0, tm_min=0, tm_sec=0, tm_wday=1, tm_yday=338, tm_isdst=-1)\n",
      "ordinal: \n",
      "\t 739223\n",
      "year: \n",
      "\t 2024\n",
      "month: \n",
      "\t 12\n",
      "day: \n",
      "\t 3\n"
     ]
    }
   ],
   "source": [
    "# datetime.date(year, month, day)\n",
    "\n",
    "today = datetime.date.today()\n",
    "print(f'today: \\n\\t {today}')\n",
    "# ctime is a string representation of the date\n",
    "print(f'ctime: \\n\\t {today.ctime()}')\n",
    "# tuple is a tuple representation of the date\n",
    "print(f'tuple: \\n\\t {today.timetuple()}')\n",
    "# ordinal is a number of days since 1/1/1\n",
    "print(f'ordinal: \\n\\t {today.toordinal()}')\n",
    "print(f'year: \\n\\t {today.year}')\n",
    "print(f'month: \\n\\t {today.month}')\n",
    "print(f'day: \\n\\t {today.day}')"
   ]
  },
  {
   "cell_type": "code",
   "execution_count": 13,
   "metadata": {},
   "outputs": [
    {
     "name": "stdout",
     "output_type": "stream",
     "text": [
      "o = 733114 and fromordinal(o) = 2008-03-13\n",
      "t = 1733242309.0710368 and fromtimestamp(t) = 2024-12-03\n"
     ]
    }
   ],
   "source": [
    "import time\n",
    "\n",
    "o = 733114\n",
    "print(f'o = {o} and fromordinal(o) = {datetime.date.fromordinal(o)}')\n",
    "\n",
    "t = time.time()\n",
    "print(f't = {t} and fromtimestamp(t) = {datetime.date.fromtimestamp(t)}')"
   ]
  },
  {
   "cell_type": "code",
   "execution_count": null,
   "metadata": {},
   "outputs": [
    {
     "name": "stdout",
     "output_type": "stream",
     "text": [
      "Earliest: 0001-01-01\n",
      "Latest: 9999-12-31\n",
      "Resolution: 1 day, 0:00:00\n"
     ]
    }
   ],
   "source": [
    "print('Earliest:', datetime.date.min)\n",
    "print('Latest:', datetime.date.max) \n",
    "print('Resolution:', datetime.date.resolution) # whole day"
   ]
  },
  {
   "cell_type": "code",
   "execution_count": 15,
   "metadata": {},
   "outputs": [
    {
     "name": "stdout",
     "output_type": "stream",
     "text": [
      "d1: 2022-07-05\n",
      "d2: 2023-07-05\n"
     ]
    }
   ],
   "source": [
    "d1 = datetime.date(2022, 7, 5)\n",
    "print(f'd1: {d1}')\n",
    "\n",
    "d2 = d1.replace(year=2023)\n",
    "print(f'd2: {d2}')"
   ]
  },
  {
   "cell_type": "code",
   "execution_count": 16,
   "metadata": {},
   "outputs": [
    {
     "name": "stdout",
     "output_type": "stream",
     "text": [
      "Help on built-in function replace:\n",
      "\n",
      "replace(...) method of datetime.date instance\n",
      "    Return date with new specified fields.\n",
      "\n"
     ]
    }
   ],
   "source": [
    "help(d1.replace)"
   ]
  },
  {
   "cell_type": "code",
   "execution_count": 27,
   "metadata": {},
   "outputs": [
    {
     "name": "stdout",
     "output_type": "stream",
     "text": [
      "2023-01-05\n"
     ]
    }
   ],
   "source": [
    "created_date = datetime.date(year=2023, month=1, day=5)\n",
    "print(created_date)"
   ]
  },
  {
   "cell_type": "markdown",
   "metadata": {},
   "source": [
    "# timedeltas"
   ]
  },
  {
   "cell_type": "code",
   "execution_count": 28,
   "metadata": {},
   "outputs": [
    {
     "name": "stdout",
     "output_type": "stream",
     "text": [
      "microseconds: 0:00:00.000001\n",
      "milliseconds: 0:00:00.001000\n",
      "seconds: 0:00:01\n",
      "minutes: 0:01:00\n",
      "hours: 1:00:00\n",
      "days: 1 day, 0:00:00\n",
      "weeks: 7 days, 0:00:00\n"
     ]
    }
   ],
   "source": [
    "# datetime.timedelta(days=0, seconds=0, microseconds=0, milliseconds=0, minutes=0, hours=0, weeks=0)\n",
    "\n",
    "print(f'microseconds: {datetime.timedelta(microseconds=1)}')\n",
    "print(f'milliseconds: {datetime.timedelta(milliseconds=1)}')\n",
    "print(f'seconds: {datetime.timedelta(seconds=1)}')\n",
    "print(f'minutes: {datetime.timedelta(minutes=1)}')\n",
    "print(f'hours: {datetime.timedelta(hours=1)}')\n",
    "print(f'days: {datetime.timedelta(days=1)}')\n",
    "print(f'weeks: {datetime.timedelta(weeks=1)}')"
   ]
  },
  {
   "cell_type": "markdown",
   "metadata": {},
   "source": [
    "### Date Arithmetic\n",
    "Date math uses the standard arithmetic operators.\n",
    "\n",
    "\n",
    "The following example with date objects illustrates using timedelta objects to compute new dates, and subtracting date instances to produce timedeltas (including a negative delta value)."
   ]
  },
  {
   "cell_type": "code",
   "execution_count": 29,
   "metadata": {},
   "outputs": [
    {
     "name": "stdout",
     "output_type": "stream",
     "text": [
      "today: 2024-12-03\n"
     ]
    }
   ],
   "source": [
    "today = datetime.date.today()\n",
    "print(f'today: {today}')"
   ]
  },
  {
   "cell_type": "code",
   "execution_count": 30,
   "metadata": {},
   "outputs": [
    {
     "name": "stdout",
     "output_type": "stream",
     "text": [
      "one_timedelta_day: 1 day, 0:00:00\n"
     ]
    }
   ],
   "source": [
    "one_timedelta_day = datetime.timedelta(days=1)\n",
    "print(f'one_timedelta_day: {one_timedelta_day}')"
   ]
  },
  {
   "cell_type": "code",
   "execution_count": 31,
   "metadata": {},
   "outputs": [
    {
     "name": "stdout",
     "output_type": "stream",
     "text": [
      "yesterday: 2024-12-02\n"
     ]
    }
   ],
   "source": [
    "yesterday = today - one_timedelta_day\n",
    "print(f'yesterday: {yesterday}')"
   ]
  },
  {
   "cell_type": "code",
   "execution_count": 32,
   "metadata": {},
   "outputs": [
    {
     "name": "stdout",
     "output_type": "stream",
     "text": [
      "tomorrow: 2024-12-04\n"
     ]
    }
   ],
   "source": [
    "tomorrow = today + one_timedelta_day\n",
    "print(f'tomorrow: {tomorrow}')"
   ]
  },
  {
   "cell_type": "code",
   "execution_count": 33,
   "metadata": {},
   "outputs": [
    {
     "name": "stdout",
     "output_type": "stream",
     "text": [
      "tomorrow - yesterday: 2 days, 0:00:00\n",
      "yesterday - tomorrow: -2 days, 0:00:00\n"
     ]
    }
   ],
   "source": [
    "print(f'tomorrow - yesterday: {tomorrow - yesterday}')\n",
    "print(f'yesterday - tomorrow: {yesterday - tomorrow}')"
   ]
  },
  {
   "cell_type": "code",
   "execution_count": null,
   "metadata": {},
   "outputs": [],
   "source": []
  }
 ],
 "metadata": {
  "kernelspec": {
   "display_name": "base",
   "language": "python",
   "name": "python3"
  },
  "language_info": {
   "codemirror_mode": {
    "name": "ipython",
    "version": 3
   },
   "file_extension": ".py",
   "mimetype": "text/x-python",
   "name": "python",
   "nbconvert_exporter": "python",
   "pygments_lexer": "ipython3",
   "version": "3.12.4"
  }
 },
 "nbformat": 4,
 "nbformat_minor": 2
}
